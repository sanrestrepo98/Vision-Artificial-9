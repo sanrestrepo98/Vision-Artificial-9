{
 "cells": [
  {
   "cell_type": "markdown",
   "metadata": {},
   "source": [
    "# Actividades de clase, semanas 4, 5 y 6 [Segunda parte]"
   ]
  },
  {
   "cell_type": "markdown",
   "metadata": {},
   "source": [
    "Practica del día 25 de junio, consta de un módulo (módulo III) que corresponde a convoluciones.\n",
    "\n",
    "## Ayuda: Recuerde descargar el repositorio de GitHub del curso, donde estan los notebooks actualizados e implementaciones en python3.\n",
    "\n",
    "## Aunque el ejercicio explícitamente no lo indique, recuerde que debe dar una breve conclusión de cada uno de los resultados obtenidos al finalizar cada punto."
   ]
  },
  {
   "cell_type": "code",
   "execution_count": null,
   "metadata": {
    "collapsed": true
   },
   "outputs": [],
   "source": [
    "#Importar librerias\n",
    "%matplotlib inline\n",
    "\n",
    "import cv2\n",
    "import matplotlib.pyplot as plt\n",
    "import numpy as np\n",
    "import math\n",
    "import time"
   ]
  },
  {
   "cell_type": "markdown",
   "metadata": {},
   "source": [
    "# Módulo III (cont.)"
   ]
  },
  {
   "cell_type": "markdown",
   "metadata": {},
   "source": [
    "## 2.\n",
    "\n",
    "Lea la imagen \"gato.jpg\" que se encuentra en la carpeta \"res\" en RGB. A continuación, se muestran dos funciones para creación e implementación de kernels."
   ]
  },
  {
   "cell_type": "code",
   "execution_count": null,
   "metadata": {
    "collapsed": true
   },
   "outputs": [],
   "source": [
    "#Función para hacer el kernel, su parámetro es el tamaño de éste\n",
    "def make_kernel(size):\n",
    "    #Matriz de unos del tamaño de entrada, datos de tipo flotante\n",
    "    kernel = np.ones((size,size),dtype=np.float64)\n",
    "    #r corresponde al entero más grande que sea menor o igual a size/2\n",
    "    r = math.floor(size/2)\n",
    "    return (r,kernel/(size**2))\n",
    "\n",
    "#Función de aplicación de kernel sobre la imagen bajo los parámetros \n",
    "#imagen de entrada, máscara, valores en x,y,kernel,r\n",
    "def apply_kernel(img, res, x,y,kernel,r):\n",
    "    #Recorrer la imagen en el intervalo del radio del kernel\n",
    "    for i in range(-r, r+1):\n",
    "        for j in range(-r, r+1):\n",
    "            #Convolución sobre cada pixel de la imagen\n",
    "            res[x][y] += img[x+i][y+j] * kernel[r+i][r+j]"
   ]
  },
  {
   "cell_type": "markdown",
   "metadata": {},
   "source": [
    "## Convolución con las funciones make_kernel y apply_kernel:\n",
    "Utilizando las funciones anteriores, implemente una convolución a la imagen \"res/gato.jpg\" con un kernel de <b>tamaño 15x15. </b>\n",
    "\n",
    "Explique: ¿Qué hace la función make_kernel? ¿Qué hace la función apply_kernel? ¿Por qué considera usted que los bordes se ven de color negro (adquieren valor 0)\n",
    "\n",
    "### Debe obtener un resultado como este:\n",
    "\n",
    "<img src = \"res/convog.png\">\n",
    "\n",
    "\n",
    "## Convolución con Filter2D:\n",
    "\n",
    "Utilizando la misma imagen (\"res/gato.jpg\"), con un kernel de <b> tamaño 15x15 </b>, realice el proceso de convolución, esta vez haga uso de la función cv2.filter2D (utilice el parámetro borderType = cv2.BORDER_REPLICATE).\n",
    "\n",
    "\n",
    "### Debe obtener un resultado como este:\n",
    "\n",
    "<img src = \"res/conv.png\">\n",
    "\n",
    "# Mida la eficiencia de ambos procesos, utilizando la librería time de python.\n",
    "\n",
    "¿Cuanto tarda cada caso de convolución implementado?"
   ]
  },
  {
   "cell_type": "code",
   "execution_count": null,
   "metadata": {
    "collapsed": true
   },
   "outputs": [],
   "source": [
    "### Implementación de la librería time\n",
    "import time\n",
    "\n",
    "t0 = time.clock()\n",
    "##aquí van todos los procesos que usted desea cuantificar\n",
    "print (time.clock()-t0,\"seconds\")"
   ]
  },
  {
   "cell_type": "markdown",
   "metadata": {},
   "source": [
    "## 3.\n",
    "\n",
    "Lea la imagen \"gato.jpg\" que se encuentra en la carpeta \"res\" en RGB. En este ejercicio usted debe recrear distintos tipos de ruido que se presentan en imágenes."
   ]
  },
  {
   "cell_type": "markdown",
   "metadata": {},
   "source": [
    "El ruido es un factor que se encuentra en la mayoría de los problemas de visión artificial, utilizando las funciones de ruido Gaussiano, Pimienta y Poisson, obtenga:\n",
    "\n",
    "<img src = \"res/gatoxf.png\">\n",
    "\n",
    "A continuación se muestra la implementación de las funciones:"
   ]
  },
  {
   "cell_type": "code",
   "execution_count": null,
   "metadata": {
    "collapsed": true
   },
   "outputs": [],
   "source": [
    "#Definir la función ruido gaussiano\n",
    "def gaussian_noise(img, std):\n",
    "    #Las variables row, col y ch dependen de la imagen de entrada y sus componentes\n",
    "    mean = 0\n",
    "    row = img.shape[0]\n",
    "    col = img.shape[1]\n",
    "    ch =  img.shape[2] if len(img.shape) == 3 else 1       \n",
    "    #Definir la matriz de ceros noisy  del mismo tamaño que la imagen original\n",
    "    noisy = np.zeros(img.shape, np.float64)\n",
    "    #Generar una distribución normal a partir del comando de numpy\n",
    "    gauss = np.random.normal(mean,std,(row,col,ch)) if ch > 1 else np.random.normal(mean,std,(row,col))\n",
    "    gauss = gauss.reshape(row,col,ch)               if ch > 1 else gauss.reshape(row,col)\n",
    "    #La imagen con ruido gaussiano es la suma de la imagen de entrada con la procesada\n",
    "    noisy =  img + gauss\n",
    "    #Ajustar los datos para que estén entre 0 y 255\n",
    "    noisy[noisy<0] = 0\n",
    "    noisy[noisy>255] = 255\n",
    "    return noisy\n",
    "\n",
    "#Definir la función de ruido impulsivo\n",
    "def sp_noise(img, s_vs_p, amount):\n",
    "    \n",
    "    #Obtener los valores de row, col y ch con base en la imagen de entrada\n",
    "    row = img.shape[0]\n",
    "    col = img.shape[1]\n",
    "    ch =  img.shape[2] if len(img.shape) == 3 else 1  \n",
    "    \n",
    "    #Crear una copia de la imagen para volverla ruidosa\n",
    "    noisy = img.copy()\n",
    "    \n",
    "    # Salt mode\n",
    "    \n",
    "    #Multiplica los parámetros con el tamaño de la imagen, los redondea al mínimo entero\n",
    "    num_salt = np.ceil(amount * img.size * s_vs_p)\n",
    "    #Genera el vector coordenadas en la imagen de copia usando la función randint de numpy\n",
    "    coords = [np.random.randint(0, i - 1, int(num_salt))\n",
    "          for i in img.shape]\n",
    "\n",
    "    #La imagen evaluada en el vector coords se satura\n",
    "    noisy[coords] = 255\n",
    "    \n",
    "    # Pepper mode\n",
    "    \n",
    "    #Se multiplican los parámetros por el tamaño de la imagen, variando s_vs_p\n",
    "    num_pepper = np.ceil(amount* img.size * (1. - s_vs_p))\n",
    "    #Generar el vector coords utilizando randint\n",
    "    coords = [np.random.randint(0, i - 1, int(num_pepper))\n",
    "          for i in img.shape]\n",
    "    #La imagen en el vector coords se satura en color negro\n",
    "    noisy[coords] = 0\n",
    "    return noisy\n",
    "\n",
    "#Definir la función ruido de Poisson\n",
    "def poisson_noise(img):\n",
    "    \n",
    "    #Se aplica el comando de numpy random.poisson a la imagen de entrada\n",
    "    noisy = np.random.poisson(img) \n",
    "    #Los valores deben estar entre 0 y 255\n",
    "    noisy[noisy<0] = 0\n",
    "    noisy[noisy>255] = 255\n",
    "    return noisy"
   ]
  },
  {
   "cell_type": "markdown",
   "metadata": {},
   "source": [
    "## Sugerencia: Ajuste los parámetros std = 50, s_vs_p =  0.5, amount = 0.05\n",
    "\n",
    "## No olvide variar los parámetros y observar qué ocurre al hacerlo."
   ]
  },
  {
   "cell_type": "markdown",
   "metadata": {},
   "source": [
    "## 4.\n",
    "\n",
    "Lea la imagen 'res/rice.png'. Aplique 100 veces sucesivas un filtro de media de 3x3 a la imagen. ¿Qué resultado obtuvo?, ¿Qué comentarios puede hacer al respecto?\n",
    "\n",
    "Ahora aplique 100 veces un filtro de media de 11x11 a la imagen. Compare y discuta los resultados obtenidos comparados con la imagen anterior.\n",
    "\n",
    "¿Qué ocurre si el filtro 3x3 se aplica únicamente 2 veces? ¿Qué ocurre con 10? ¿Qué pasaría si se aplica un filtro de media infinitas veces a la imagen? \n",
    "\n",
    "## Ayuda:\n",
    "\n",
    "Cuando aplique 100 veces el filtro de media 3x3 debe obtener lo siguiente:\n",
    "\n",
    "<img src = \"res/scenario.png\">\n",
    "\n",
    "###  Implementación del filtro:"
   ]
  },
  {
   "cell_type": "code",
   "execution_count": null,
   "metadata": {
    "collapsed": true
   },
   "outputs": [],
   "source": [
    "####Implementación 100 veces filtro####\n",
    "#tamaño del kernel\n",
    "k_size = 3\n",
    "#crear el kernel\n",
    "kernel = np.ones((k_size,k_size),np.float64)/(k_size**2)\n",
    "#crear imagen que se va a modificar las n veces que se aplique el filtro\n",
    "res2 = img.copy()\n",
    "#ciclo que implementa el filtro de media\n",
    "for i in range(0,100):\n",
    "    res2 = cv2.filter2D(res2, ddepth=-1, kernel= kernel, borderType=cv2.BORDER_REPLICATE)"
   ]
  },
  {
   "cell_type": "markdown",
   "metadata": {},
   "source": [
    "## 5.\n",
    "\n",
    "Utilice la función de ruido sal y pimienta (sp_noise), con s_vs_p = amount = 0.7.\n",
    "\n",
    "Lea la imagen \"gato.jpg\" que se encuentra en la carpeta \"res\", introduzcala en la función de ruido pimienta y posteriomente, aplique un filtro de mediana con kernel de tamaño 7x7.\n",
    "\n",
    "<img src = \"res/filter.png\">"
   ]
  },
  {
   "cell_type": "markdown",
   "metadata": {},
   "source": [
    "Recuerde utilizar la función cv2.medianBlur."
   ]
  }
 ],
 "metadata": {
  "kernelspec": {
   "display_name": "Python 3",
   "language": "python",
   "name": "python3"
  },
  "language_info": {
   "codemirror_mode": {
    "name": "ipython",
    "version": 3
   },
   "file_extension": ".py",
   "mimetype": "text/x-python",
   "name": "python",
   "nbconvert_exporter": "python",
   "pygments_lexer": "ipython3",
   "version": "3.6.1"
  }
 },
 "nbformat": 4,
 "nbformat_minor": 2
}
