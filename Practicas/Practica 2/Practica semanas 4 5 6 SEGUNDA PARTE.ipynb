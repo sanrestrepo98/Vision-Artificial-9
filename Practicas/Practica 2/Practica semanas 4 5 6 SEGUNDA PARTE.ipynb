{
 "cells": [
  {
   "cell_type": "markdown",
   "metadata": {},
   "source": [
    "# Actividades de clase, semanas 4, 5 y 6 [Segunda parte]"
   ]
  },
  {
   "cell_type": "markdown",
   "metadata": {},
   "source": [
    "Practica del día 25 de junio, consta de un módulo (módulo III) que corresponde a convoluciones.\n",
    "\n",
    "## Ayuda: Recuerde descargar el repositorio de GitHub del curso, donde estan los notebooks actualizados e implementaciones en python3.\n",
    "\n",
    "## Aunque el ejercicio explícitamente no lo indique, recuerde que debe dar una breve conclusión de cada uno de los resultados obtenidos al finalizar cada punto."
   ]
  },
  {
   "cell_type": "code",
   "execution_count": 1,
   "metadata": {},
   "outputs": [],
   "source": [
    "#Importar librerias\n",
    "%matplotlib inline\n",
    "\n",
    "import cv2\n",
    "import matplotlib.pyplot as plt\n",
    "import numpy as np\n",
    "import math\n",
    "import time"
   ]
  },
  {
   "cell_type": "markdown",
   "metadata": {},
   "source": [
    "# Módulo III (cont.)"
   ]
  },
  {
   "cell_type": "markdown",
   "metadata": {},
   "source": [
    "## 2.\n",
    "\n",
    "Lea la imagen \"gato.jpg\" que se encuentra en la carpeta \"res\" en RGB. A continuación, se muestran dos funciones para creación e implementación de kernels."
   ]
  },
  {
   "cell_type": "code",
   "execution_count": 2,
   "metadata": {},
   "outputs": [],
   "source": [
    "#Función para hacer el kernel, su parámetro es el tamaño de éste\n",
    "def make_kernel(size):\n",
    "    #Matriz de unos del tamaño de entrada, datos de tipo flotante\n",
    "    kernel = np.ones((size,size),dtype=np.float64)\n",
    "    #r corresponde al entero más grande que sea menor o igual a size/2\n",
    "    r = math.floor(size/2)\n",
    "    return (r,kernel/(size**2))\n",
    "\n",
    "#Función de aplicación de kernel sobre la imagen bajo los parámetros \n",
    "#imagen de entrada, máscara, valores en x,y,kernel,r\n",
    "def apply_kernel(img, res, x,y,kernel,r):\n",
    "    #Recorrer la imagen en el intervalo del radio del kernel\n",
    "    for i in range(-r, r+1):\n",
    "        for j in range(-r, r+1):\n",
    "            #Convolución sobre cada pixel de la imagen\n",
    "            res[x][y] += img[x+i][y+j] * kernel[r+i][r+j]"
   ]
  },
  {
   "cell_type": "markdown",
   "metadata": {},
   "source": [
    "## Convolución con las funciones make_kernel y apply_kernel:\n",
    "Utilizando las funciones anteriores, implemente una convolución a la imagen \"res/gato.jpg\" con un kernel de <b>tamaño 15x15. </b>\n",
    "\n",
    "Explique: ¿Qué hace la función make_kernel? ¿Qué hace la función apply_kernel? ¿Por qué considera usted que los bordes se ven de color negro (adquieren valor 0)\n",
    "\n",
    "### Debe obtener un resultado como este:\n",
    "\n",
    "<img src = \"res/convog.png\">\n",
    "\n",
    "\n",
    "## Convolución con Filter2D:\n",
    "\n",
    "Utilizando la misma imagen (\"res/gato.jpg\"), con un kernel de <b> tamaño 15x15 </b>, realice el proceso de convolución, esta vez haga uso de la función cv2.filter2D (utilice el parámetro borderType = cv2.BORDER_REPLICATE).\n",
    "\n",
    "\n",
    "### Debe obtener un resultado como este:\n",
    "\n",
    "<img src = \"res/conv.png\">\n",
    "\n",
    "# Mida la eficiencia de ambos procesos, utilizando la librería time de python.\n",
    "\n",
    "¿Cuanto tarda cada caso de convolución implementado?"
   ]
  },
  {
   "cell_type": "code",
   "execution_count": null,
   "metadata": {},
   "outputs": [],
   "source": [
    "### Implementación de la librería time\n",
    "import time\n",
    "\n",
    "t0 = time.process_time()\n",
    "##aquí van todos los procesos que usted desea cuantificar\n",
    "print (time.process_time()-t0,\"seconds\")"
   ]
  },
  {
   "cell_type": "markdown",
   "metadata": {},
   "source": [
    "## 3.\n",
    "\n",
    "Lea la imagen \"gato.jpg\" que se encuentra en la carpeta \"res\" en RGB. En este ejercicio usted debe recrear distintos tipos de ruido que se presentan en imágenes."
   ]
  },
  {
   "cell_type": "markdown",
   "metadata": {},
   "source": [
    "El ruido es un factor que se encuentra en la mayoría de los problemas de visión artificial, utilizando las funciones de ruido Gaussiano, Pimienta y Poisson, obtenga:\n",
    "\n",
    "<img src = \"res/gatoxf.png\">\n",
    "\n",
    "A continuación se muestra la implementación de las funciones:"
   ]
  },
  {
   "cell_type": "code",
   "execution_count": 18,
   "metadata": {},
   "outputs": [],
   "source": [
    "#Definir la función ruido gaussiano\n",
    "def gaussian_noise(img, std):\n",
    "    #Las variables row, col y ch dependen de la imagen de entrada y sus componentes\n",
    "    mean = 0\n",
    "    row = img.shape[0]\n",
    "    col = img.shape[1]\n",
    "    ch =  img.shape[2] if len(img.shape) == 3 else 1       \n",
    "    #Definir la matriz de ceros noisy  del mismo tamaño que la imagen original\n",
    "    noisy = np.zeros(img.shape, np.float64)\n",
    "    #Generar una distribución normal a partir del comando de numpy\n",
    "    gauss = np.random.normal(mean,std,(row,col,ch)) if ch > 1 else np.random.normal(mean,std,(row,col))\n",
    "    gauss = gauss.reshape(row,col,ch)               if ch > 1 else gauss.reshape(row,col)\n",
    "    #La imagen con ruido gaussiano es la suma de la imagen de entrada con la procesada\n",
    "    noisy =  img + gauss\n",
    "    #Ajustar los datos para que estén entre 0 y 255\n",
    "    noisy[noisy<0] = 0\n",
    "    noisy[noisy>255] = 255\n",
    "    return noisy\n",
    "\n",
    "#Definir la función de ruido impulsivo\n",
    "def sp_noise(img, s_vs_p, amount):\n",
    "    \n",
    "    #Obtener los valores de row, col y ch con base en la imagen de entrada\n",
    "    row = img.shape[0]\n",
    "    col = img.shape[1]\n",
    "    ch =  img.shape[2] if len(img.shape) == 3 else 1  \n",
    "    \n",
    "    #Crear una copia de la imagen para volverla ruidosa\n",
    "    noisy = img.copy()\n",
    "    \n",
    "    # Salt mode\n",
    "    \n",
    "    #Multiplica los parámetros con el tamaño de la imagen, los redondea al mínimo entero\n",
    "    num_salt = np.ceil(amount * img.size * s_vs_p)\n",
    "    #Genera el vector coordenadas en la imagen de copia usando la función randint de numpy\n",
    "    coords = [np.random.randint(0, i - 1, int(num_salt))\n",
    "          for i in img.shape]\n",
    "\n",
    "    #La imagen evaluada en el vector coords se satura\n",
    "    noisy[tuple(coords)] = 255\n",
    "    \n",
    "    # Pepper mode\n",
    "    \n",
    "    #Se multiplican los parámetros por el tamaño de la imagen, variando s_vs_p\n",
    "    num_pepper = np.ceil(amount* img.size * (1. - s_vs_p))\n",
    "    #Generar el vector coords utilizando randint\n",
    "    coords = [np.random.randint(0, i - 1, int(num_pepper))\n",
    "          for i in img.shape]\n",
    "    #La imagen en el vector coords se satura en color negro\n",
    "    noisy[tuple(coords)] = 0\n",
    "    return noisy\n",
    "\n",
    "#Definir la función ruido de Poisson\n",
    "def poisson_noise(img):\n",
    "    \n",
    "    #Se aplica el comando de numpy random.poisson a la imagen de entrada\n",
    "    noisy = np.random.poisson(img) \n",
    "    #Los valores deben estar entre 0 y 255\n",
    "    noisy[noisy<0] = 0\n",
    "    noisy[noisy>255] = 255\n",
    "    return noisy"
   ]
  },
  {
   "cell_type": "markdown",
   "metadata": {},
   "source": [
    "## Sugerencia: Ajuste los parámetros std = 50, s_vs_p =  0.5, amount = 0.05\n",
    "\n",
    "## No olvide variar los parámetros y observar qué ocurre al hacerlo."
   ]
  },
  {
   "cell_type": "markdown",
   "metadata": {},
   "source": [
    "## 4.\n",
    "\n",
    "Lea la imagen 'res/rice.png'. Aplique 100 veces sucesivas un filtro de media de 3x3 a la imagen. ¿Qué resultado obtuvo?, ¿Qué comentarios puede hacer al respecto?\n",
    "\n",
    "Ahora aplique 100 veces un filtro de media de 11x11 a la imagen. Compare y discuta los resultados obtenidos comparados con la imagen anterior.\n",
    "\n",
    "¿Qué ocurre si el filtro 3x3 se aplica únicamente 2 veces? ¿Qué ocurre con 10? ¿Qué pasaría si se aplica un filtro de media infinitas veces a la imagen? \n",
    "\n",
    "## Ayuda:\n",
    "\n",
    "Cuando aplique 100 veces el filtro de media 3x3 debe obtener lo siguiente:\n",
    "\n",
    "<img src = \"res/scenario.png\">\n",
    "\n",
    "###  Implementación del filtro:"
   ]
  },
  {
   "cell_type": "code",
   "execution_count": null,
   "metadata": {},
   "outputs": [],
   "source": [
    "####Implementación 100 veces filtro####\n",
    "#tamaño del kernel\n",
    "k_size = 3\n",
    "#crear el kernel\n",
    "kernel = np.ones((k_size,k_size),np.float64)/(k_size**2)\n",
    "#crear imagen que se va a modificar las n veces que se aplique el filtro\n",
    "res2 = img.copy()\n",
    "#ciclo que implementa el filtro de media\n",
    "for i in range(0,100):\n",
    "    res2 = cv2.filter2D(res2, ddepth=-1, kernel= kernel, borderType=cv2.BORDER_REPLICATE)"
   ]
  },
  {
   "cell_type": "markdown",
   "metadata": {},
   "source": [
    "## 5.\n",
    "\n",
    "Utilice la función de ruido sal y pimienta (sp_noise), con s_vs_p = amount = 0.7.\n",
    "\n",
    "Lea la imagen \"gato.jpg\" que se encuentra en la carpeta \"res\", introduzcala en la función de ruido pimienta y posteriomente, aplique un filtro de mediana con kernel de tamaño 7x7.\n",
    "\n",
    "<img src = \"res/filter.png\">"
   ]
  },
  {
   "cell_type": "markdown",
   "metadata": {},
   "source": [
    "Recuerde utilizar la función cv2.medianBlur."
   ]
  },
  {
   "cell_type": "markdown",
   "metadata": {},
   "source": [
    "# Solución Módulo III (cont)\n",
    "## 2. Convolución\n",
    "### a) Utilizando make_kernel() y apply_kernel()"
   ]
  },
  {
   "cell_type": "code",
   "execution_count": 1,
   "metadata": {},
   "outputs": [
    {
     "ename": "NameError",
     "evalue": "name 'cv2' is not defined",
     "output_type": "error",
     "traceback": [
      "\u001b[1;31m---------------------------------------------------------------------------\u001b[0m",
      "\u001b[1;31mNameError\u001b[0m                                 Traceback (most recent call last)",
      "\u001b[1;32m<ipython-input-1-b83d61fcfb8a>\u001b[0m in \u001b[0;36m<module>\u001b[1;34m\u001b[0m\n\u001b[0;32m      1\u001b[0m \u001b[1;31m#Leer la imagen\u001b[0m\u001b[1;33m\u001b[0m\u001b[1;33m\u001b[0m\u001b[1;33m\u001b[0m\u001b[0m\n\u001b[1;32m----> 2\u001b[1;33m \u001b[0mimg\u001b[0m \u001b[1;33m=\u001b[0m \u001b[0mcv2\u001b[0m\u001b[1;33m.\u001b[0m\u001b[0mcvtColor\u001b[0m\u001b[1;33m(\u001b[0m\u001b[0mcv2\u001b[0m\u001b[1;33m.\u001b[0m\u001b[0mimread\u001b[0m\u001b[1;33m(\u001b[0m\u001b[1;34m'res/gato.jpg'\u001b[0m\u001b[1;33m)\u001b[0m\u001b[1;33m,\u001b[0m \u001b[0mcv2\u001b[0m\u001b[1;33m.\u001b[0m\u001b[0mCOLOR_BGR2RGB\u001b[0m\u001b[1;33m)\u001b[0m\u001b[1;33m\u001b[0m\u001b[1;33m\u001b[0m\u001b[0m\n\u001b[0m\u001b[0;32m      3\u001b[0m \u001b[1;33m\u001b[0m\u001b[0m\n\u001b[0;32m      4\u001b[0m \u001b[1;31m#Función para comenzar a medir el tiempo\u001b[0m\u001b[1;33m\u001b[0m\u001b[1;33m\u001b[0m\u001b[1;33m\u001b[0m\u001b[0m\n\u001b[0;32m      5\u001b[0m \u001b[0mt0\u001b[0m \u001b[1;33m=\u001b[0m \u001b[0mtime\u001b[0m\u001b[1;33m.\u001b[0m\u001b[0mprocess_time\u001b[0m\u001b[1;33m(\u001b[0m\u001b[1;33m)\u001b[0m\u001b[1;33m\u001b[0m\u001b[1;33m\u001b[0m\u001b[0m\n",
      "\u001b[1;31mNameError\u001b[0m: name 'cv2' is not defined"
     ]
    }
   ],
   "source": [
    "#Leer la imagen\n",
    "img = cv2.cvtColor(cv2.imread('res/gato.jpg'), cv2.COLOR_BGR2RGB)\n",
    "\n",
    "#Función para comenzar a medir el tiempo\n",
    "t0 = time.process_time()\n",
    "\n",
    "#Tamaño del kernel\n",
    "k_size = 15\n",
    "#Obtener un kernel que se ajusta al tamaño solicitado mediante la función\n",
    "(r, kernel) = make_kernel(k_size)\n",
    "#Crear la matriz de ceros del tamaño de la imagen de entrada, tipo de datos flotante\n",
    "res = np.zeros(img.shape, dtype=np.float64)\n",
    "\n",
    "#Realizar la operación convolución sobre toda la imagen de entrada\n",
    "for i in range(r,img.shape[0]-r):\n",
    "    for j in range(r, img.shape[1]-r):\n",
    "        apply_kernel(img, res, i, j, kernel, r)\n",
    "\n",
    "#Asegurar el tipo de dato uint8\n",
    "res=res.astype(np.uint8)\n",
    "\n",
    "#Mostrar tiempo transcurrido\n",
    "print (time.process_time()-t0,\"seconds\")\n",
    "\n",
    "#Generar un subplot 1x2 que muestre imagen original y la convolución\n",
    "fig, arreglo_plots = plt.subplots(1,2, figsize=(15, 15))\n",
    "\n",
    "arreglo_plots[0].set_title('Imagen original')\n",
    "arreglo_plots[0].imshow(img, cmap=\"gray\", vmin=0, vmax=255)\n",
    "\n",
    "arreglo_plots[1].set_title('Imagen convolucionada')\n",
    "arreglo_plots[1].imshow(res, cmap=\"gray\", vmin=0, vmax=255)\n"
   ]
  },
  {
   "cell_type": "markdown",
   "metadata": {},
   "source": [
    "La función “Make_Kernel” crea la máscara de convolución con el tamaño que nosotros deseemos, a su vez, se asegura de que sea una matriz cuadrada.\n",
    "\n",
    "La función “Apply Kernel” recorre la imagen con el fin de aplicar sobre cada píxel la máscara de convolución\n",
    "\n",
    "Los bordes de la imagen se ven negros debido al problema llamado “padding” en el que el filtro de convolución queda por fuera de los pixeles del borde haciendo que estos queden con el valor de cero, existen varias técnicas para eliminar este problema entre las cuales estan: Zero padding, Constant Padding, Nearest Neighbor, Reflect, Wrap.\n",
    "\n",
    "El primer caso tarda 211 segundos y el segundo caso tarda 0,03 segundos, siendo este último es más eficiente\n",
    "En el primer procedimiento se le aplica una máscara de convolución de 15x15 a la imagen, dando como resultado una imagen con problema de padding, en el segundo procedimiento se elimina este problema con la función filter2d y eligiendo la solución al padding del vecino más cercano (replicando los pixeles).\n"
   ]
  },
  {
   "cell_type": "markdown",
   "metadata": {},
   "source": [
    "### b) Utilizando Filter2D"
   ]
  },
  {
   "cell_type": "code",
   "execution_count": null,
   "metadata": {},
   "outputs": [],
   "source": [
    "#Función para comenzar a medir el tiempo\n",
    "t0 = time.process_time()\n",
    "\n",
    "#Crear un kernel de tamaño 5\n",
    "k_size = 15\n",
    "kernel = np.ones((15,15),np.float64)/225\n",
    "\n",
    "#Aplicar filter2D sobre la imagen y el kernel arbitrario, bajo la alternativa de borde preferida\n",
    "res = cv2.filter2D(img, ddepth=-1, kernel= kernel, borderType=cv2.BORDER_REPLICATE)\n",
    "\n",
    "#Mostrar tiempo transcurrido\n",
    "print (time.process_time()-t0,\"seconds\")\n",
    "\n",
    "#Mostrar la imagen original y la imagen bajo filter2D\n",
    "fig = plt.figure(figsize=(20,24))\n",
    "\n",
    "plt.subplot(1,2,1)\n",
    "plt.imshow(img,cmap='gray')\n",
    "plt.title(\"Imagen Original\")\n",
    "\n",
    "plt.subplot(1,2,2)\n",
    "plt.imshow(res,cmap='gray')\n",
    "plt.title(\"Imagen Salida\")"
   ]
  },
  {
   "cell_type": "markdown",
   "metadata": {},
   "source": [
    "## 3. Ruido"
   ]
  },
  {
   "cell_type": "code",
   "execution_count": null,
   "metadata": {},
   "outputs": [],
   "source": [
    "###### Ruido Gaussiano #######\n",
    "#Escribir la desviación estandar y leer la imagen a color\n",
    "std = 50\n",
    "\n",
    "#Aplicar ruido gaussiano y darle tipo de dato uint8\n",
    "res_gauss = gaussian_noise(img, std)\n",
    "res_gauss = res_gauss.astype(np.uint8)\n",
    "\n",
    "###### Ruido pimienta #########\n",
    "#Dar valores a los parámetros de entrada de la función ruido\n",
    "s_vs_p = 0.5\n",
    "amount = 0.05\n",
    "\n",
    "#Aplicar la función ruido y volver el tipo de dato uint8\n",
    "res_sp = sp_noise(img, s_vs_p, amount)\n",
    "res_sp = res_sp.astype(np.uint8)\n",
    "\n",
    "###### Ruido Poisson ########\n",
    "#Aplicar ruido de Poisson a la imagen y volver al tipo de dato uint8\n",
    "res_p = poisson_noise(img)\n",
    "res_p = res_p.astype(np.uint8)\n",
    "\n",
    "#Generar un subplot 1x4 para mostrar la imagen original y la imagen con ruido gaussiano\n",
    "fig, arreglo_plots = plt.subplots(1,4, figsize=(15, 15))\n",
    "\n",
    "arreglo_plots[0].set_title('Imagen original')\n",
    "arreglo_plots[0].imshow(img, cmap=\"gray\")\n",
    "\n",
    "arreglo_plots[1].set_title('Imagen con ruido Gaussiano')\n",
    "arreglo_plots[1].imshow(res_gauss, cmap=\"gray\")\n",
    "\n",
    "arreglo_plots[2].set_title('Imagen con ruido Pimienta')\n",
    "arreglo_plots[2].imshow(res_sp, cmap=\"gray\")\n",
    "\n",
    "arreglo_plots[3].set_title('Imagen con ruido Poisson')\n",
    "arreglo_plots[3].imshow(res_p, cmap=\"gray\")"
   ]
  },
  {
   "cell_type": "markdown",
   "metadata": {},
   "source": [
    "El objetivo de este punto es comparar los diferentes ruidos aplicados sobre una imagen vs la imagen original, en la primera imagen se aplica el ruido gaussiano (modela el ruido producido por los circuitos electrónicos o ruido de los sensores por falta de iluminación) definiendo previamente una función para generar este ruido el cual presenta el parámetro std = 50 (parámetro que modifica la distribución normal generada para aplicar dicho ruido). \n",
    "\n",
    "En la segunda imagen se aplica el ruido impulsivo (se produce normalmente en la cuantificación que se realiza en el proceso de digitalización, y es muy común en la transmisión) utilizando los parámetros s_vs_P = 0,5 y amount= 0,05, los cuales son parámetros que al disminuirse aumentan la cantidad de pixeles que generan “ruido”\n",
    "\n",
    "En la última imagen se aplica el ruido poisson con la función predeterminada de numpy (la distribución de este ruido depende de la intensidad de la imagen), este ruido se presenta en las partes más oscuras de una imagen y es generado por variaciones en el número de fotones capturados a un nivel dado de exposición.\n"
   ]
  },
  {
   "cell_type": "markdown",
   "metadata": {},
   "source": [
    "## 4. Filtros de media\n",
    "### a) Filtro de media de 3x3"
   ]
  },
  {
   "cell_type": "code",
   "execution_count": null,
   "metadata": {
    "scrolled": true
   },
   "outputs": [],
   "source": [
    "#Leer la imagen de entrada\n",
    "img = cv2.cvtColor(cv2.imread('res/rice.png'), cv2.COLOR_BGR2RGB)\n",
    "\n",
    "####Implementación 100 veces filtro####\n",
    "#tamaño del kernel\n",
    "k_size = 3\n",
    "#crear el kernel\n",
    "kernel = np.ones((k_size,k_size),np.float64)/(k_size**2)\n",
    "#crear imagen que se va a modificar las n veces que se aplique el filtro\n",
    "res2 = img.copy()\n",
    "\n",
    "#ciclo que implementa el filtro de media\n",
    "for i in range(0,100):\n",
    "    res2 = cv2.filter2D(res2, ddepth=-1, kernel= kernel, borderType=cv2.BORDER_REPLICATE)\n",
    "    \n",
    "# Resta entre la imagen filtrada y la imagen original\n",
    "res3 = cv2.subtract(img, res2)\n",
    "\n",
    "#Generar un subplot de 1x3 para mostrar imagen original, imagen con filtro y resta\n",
    "fig = plt.figure(figsize=(20,24))\n",
    "\n",
    "plt.subplot(1,3,1)\n",
    "plt.imshow(img,cmap='gray')\n",
    "plt.title(\"Imagen Original\")\n",
    "\n",
    "plt.subplot(1,3,2)\n",
    "plt.imshow(res2,cmap='gray')\n",
    "plt.title(\"Imagen con filtro de media\")\n",
    "\n",
    "plt.subplot(1,3,3)\n",
    "plt.imshow(res3,cmap='gray')\n",
    "plt.title(\"Resta Imagen filtrada - Imagen Original\")"
   ]
  },
  {
   "cell_type": "markdown",
   "metadata": {},
   "source": [
    "### b) Filtro de media de 11x11"
   ]
  },
  {
   "cell_type": "code",
   "execution_count": null,
   "metadata": {},
   "outputs": [],
   "source": [
    "####Implementación 100 veces filtro####\n",
    "#tamaño del kernel\n",
    "k_size = 11\n",
    "#crear el kernel\n",
    "kernel = np.ones((k_size,k_size),np.float64)/(k_size**2)\n",
    "#crear imagen que se va a modificar las n veces que se aplique el filtro\n",
    "res2 = img.copy()\n",
    "#ciclo que implementa el filtro de media\n",
    "for i in range(0,100):\n",
    "    res2 = cv2.filter2D(res2, ddepth=-1, kernel= kernel, borderType=cv2.BORDER_REPLICATE)\n",
    "    \n",
    "# Resta entre la imagen filtrada y la imagen original\n",
    "res3 = cv2.subtract(img, res2)\n",
    "\n",
    "#Generar un subplot de 1x3 para mostrar imagen original, imagen con filtro y resta\n",
    "fig = plt.figure(figsize=(20,24))\n",
    "\n",
    "plt.subplot(1,3,1)\n",
    "plt.imshow(img,cmap='gray')\n",
    "plt.title(\"Imagen Original\")\n",
    "\n",
    "plt.subplot(1,3,2)\n",
    "plt.imshow(res2,cmap='gray')\n",
    "plt.title(\"Imagen con filtro de media\")\n",
    "\n",
    "plt.subplot(1,3,3)\n",
    "plt.imshow(res3,cmap='gray')\n",
    "plt.title(\"Resta Imagen filtrada - Imagen Original\")"
   ]
  },
  {
   "cell_type": "markdown",
   "metadata": {},
   "source": [
    "## 5. Filtro de mediana"
   ]
  },
  {
   "cell_type": "code",
   "execution_count": null,
   "metadata": {},
   "outputs": [],
   "source": [
    "#Leer la imagen\n",
    "img = cv2.cvtColor(cv2.imread('res/gato.jpg'), cv2.COLOR_BGR2RGB)\n",
    "\n",
    "#Aplicar ruido sal y pimienta\n",
    "img = sp_noise(img, s_vs_p = 0.7, amount = 0.7)\n",
    "\n",
    "#Definir tamaño del kernel\n",
    "k_size = 7\n",
    "#Aplicar filtro de mediana a la imagen de entrada\n",
    "res= cv2.medianBlur(img, k_size)\n",
    "\n",
    "#Generar un subplot 1x2 para mostrar imagen original e imagen tras filtro de mediana\n",
    "fig, arreglo_plots = plt.subplots(1,2, figsize=(15, 15))\n",
    "arreglo_plots[0].set_title('Imagen original')\n",
    "arreglo_plots[0].imshow(img, cmap=\"gray\")\n",
    "\n",
    "arreglo_plots[1].set_title('Imagen tras filtro de mediana')\n",
    "arreglo_plots[1].imshow(res, cmap=\"gray\")"
   ]
  }
 ],
 "metadata": {
  "kernelspec": {
   "display_name": "Python 3",
   "language": "python",
   "name": "python3"
  },
  "language_info": {
   "codemirror_mode": {
    "name": "ipython",
    "version": 3
   },
   "file_extension": ".py",
   "mimetype": "text/x-python",
   "name": "python",
   "nbconvert_exporter": "python",
   "pygments_lexer": "ipython3",
   "version": "3.7.3"
  }
 },
 "nbformat": 4,
 "nbformat_minor": 2
}
